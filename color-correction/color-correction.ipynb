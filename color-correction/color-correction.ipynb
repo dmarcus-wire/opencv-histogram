{
 "cells": [
  {
   "cell_type": "markdown",
   "source": [
    "Import packages"
   ],
   "metadata": {
    "collapsed": false
   }
  },
  {
   "cell_type": "code",
   "execution_count": null,
   "outputs": [],
   "source": [
    "# import the necessary packages\n",
    "from imutils.perspective import four_point_transform\n",
    "from skimage import exposure\n",
    "import matplotlib.pyplot as plt\n",
    "import numpy as np\n",
    "import argparse\n",
    "import imutils\n",
    "import cv2"
   ],
   "metadata": {
    "collapsed": false,
    "pycharm": {
     "name": "#%%\n"
    }
   }
  },
  {
   "cell_type": "markdown",
   "source": [
    "Function to display images in notebook"
   ],
   "metadata": {
    "collapsed": false
   }
  },
  {
   "cell_type": "code",
   "execution_count": null,
   "outputs": [],
   "source": [
    "def plt_imshow(title, image):\n",
    "    # convert the image frame BGR to RGB color space and display it\n",
    "\timage = cv2.cvtColor(image, cv2.COLOR_BGR2RGB)\n",
    "\tplt.imshow(image)\n",
    "\tplt.title(title)\n",
    "\tplt.grid(False)\n",
    "\tplt.show()"
   ],
   "metadata": {
    "collapsed": false,
    "pycharm": {
     "name": "#%%\n"
    }
   }
  },
  {
   "cell_type": "markdown",
   "source": [
    "Implement auto color correction"
   ],
   "metadata": {
    "collapsed": false
   }
  },
  {
   "cell_type": "code",
   "execution_count": null,
   "outputs": [],
   "source": [
    "def find_color_card(image):\n",
    "\t# load the ArUCo dictionary, grab the ArUCo parameters, and\n",
    "\t# detect the markers in the input image\n",
    "\tarucoDict = cv2.aruco.Dictionary_get(cv2.aruco.DICT_ARUCO_ORIGINAL)\n",
    "\tarucoParams = cv2.aruco.DetectorParameters_create()\n",
    "\t(corners, ids, rejected) = cv2.aruco.detectMarkers(image,\n",
    "\t\tarucoDict, parameters=arucoParams)\n",
    "\n",
    "\t# try to extract the coordinates of the color correction card\n",
    "\ttry:\n",
    "\t\t# otherwise, we've found the four ArUco markers, so we can\n",
    "\t\t# continue by flattening the ArUco IDs list\n",
    "\t\tids = ids.flatten()\n",
    "\n",
    "\t\t# extract the top-left marker\n",
    "\t\ti = np.squeeze(np.where(ids == 923))\n",
    "\t\ttopLeft = np.squeeze(corners[i])[0]\n",
    "\n",
    "\t\t# extract the top-right marker\n",
    "\t\ti = np.squeeze(np.where(ids == 1001))\n",
    "\t\ttopRight = np.squeeze(corners[i])[1]\n",
    "\n",
    "\t\t# extract the bottom-right marker\n",
    "\t\ti = np.squeeze(np.where(ids == 241))\n",
    "\t\tbottomRight = np.squeeze(corners[i])[2]\n",
    "\n",
    "\t\t# extract the bottom-left marker\n",
    "\t\ti = np.squeeze(np.where(ids == 1007))\n",
    "\t\tbottomLeft = np.squeeze(corners[i])[3]\n",
    "\n",
    "\t# we could not find color correction card, so gracefully return\n",
    "\texcept:\n",
    "\t\treturn None\n",
    "\n",
    "\t# build our list of reference points and apply a perspective\n",
    "\t# transform to obtain a top-down, birds-eye-view of the color\n",
    "\t# matching card\n",
    "\tcardCoords = np.array([topLeft, topRight,\n",
    "\t\tbottomRight, bottomLeft])\n",
    "\tcard = four_point_transform(image, cardCoords)\n",
    "\n",
    "\t# return the color matching card to the calling function\n",
    "\treturn card"
   ],
   "metadata": {
    "collapsed": false,
    "pycharm": {
     "name": "#%%\n"
    }
   }
  },
  {
   "cell_type": "code",
   "execution_count": null,
   "outputs": [],
   "source": [
    "# # construct the argument parser and parse the arguments\n",
    "# ap = argparse.ArgumentParser()\n",
    "# ap.add_argument(\"-r\", \"--reference\", required=True,\n",
    "# \thelp=\"path to the input reference image\")\n",
    "# ap.add_argument(\"-i\", \"--input\", required=True,\n",
    "# \thelp=\"path to the input image to apply color correction to\")\n",
    "# args = vars(ap.parse_args())\n",
    "\n",
    "# since we are using Jupyter Notebooks we can replace our argument\n",
    "# parsing code with *hard coded* arguments and values\n",
    "args = {\n",
    "    \"reference\": \"reference.jpg\",\n",
    "    \"input\": \"examples/01.jpg\"\n",
    "}"
   ],
   "metadata": {
    "collapsed": false,
    "pycharm": {
     "name": "#%%\n"
    }
   }
  },
  {
   "cell_type": "code",
   "execution_count": null,
   "outputs": [],
   "source": [
    "# load the reference image and input images from disk\n",
    "print(\"[INFO] loading images...\")\n",
    "ref = cv2.imread(args[\"reference\"])\n",
    "image = cv2.imread(args[\"input\"])\n",
    "\n",
    "# resize the reference and input images\n",
    "ref = imutils.resize(ref, width=600)\n",
    "image = imutils.resize(image, width=600)\n",
    "\n",
    "# display the reference and input images to our screen\n",
    "plt_imshow(\"Reference\", ref)\n",
    "plt_imshow(\"Input\", image)"
   ],
   "metadata": {
    "collapsed": false,
    "pycharm": {
     "name": "#%%\n"
    }
   }
  },
  {
   "cell_type": "code",
   "execution_count": null,
   "outputs": [],
   "source": [
    "# find the color matching card in each image\n",
    "print(\"[INFO] finding color matching cards...\")\n",
    "refCard = find_color_card(ref)\n",
    "imageCard = find_color_card(image)\n",
    "\n",
    "# if the color matching card is not found in either the reference\n",
    "# image or the input image, gracefully exit\n",
    "if refCard is None or imageCard is None:\n",
    "\tprint(\"[INFO] could not find color matching card in both images\")"
   ],
   "metadata": {
    "collapsed": false,
    "pycharm": {
     "name": "#%%\n"
    }
   }
  },
  {
   "cell_type": "code",
   "execution_count": null,
   "outputs": [],
   "source": [
    "# show the color matching card in the reference image and input image,\n",
    "# respectively\n",
    "plt_imshow(\"Reference Color Card\", refCard)\n",
    "plt_imshow(\"Input Color Card\", imageCard)\n",
    "\n",
    "# apply histogram matching from the color matching card in the\n",
    "# reference image to the color matching card in the input image\n",
    "print(\"[INFO] matching images...\")\n",
    "imageCard = exposure.match_histograms(imageCard, refCard,\n",
    "\tmultichannel=True)\n",
    "\n",
    "# show our input color matching card after histogram matching\n",
    "plt_imshow(\"Input Color Card After Matching\", imageCard)"
   ],
   "metadata": {
    "collapsed": false,
    "pycharm": {
     "name": "#%%\n"
    }
   }
  }
 ],
 "metadata": {
  "kernelspec": {
   "display_name": "Python 3",
   "language": "python",
   "name": "python3"
  },
  "language_info": {
   "codemirror_mode": {
    "name": "ipython",
    "version": 2
   },
   "file_extension": ".py",
   "mimetype": "text/x-python",
   "name": "python",
   "nbconvert_exporter": "python",
   "pygments_lexer": "ipython2",
   "version": "2.7.6"
  }
 },
 "nbformat": 4,
 "nbformat_minor": 0
}